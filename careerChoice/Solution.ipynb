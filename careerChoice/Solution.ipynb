{
 "cells": [
  {
   "cell_type": "code",
   "execution_count": 43,
   "id": "initial_id",
   "metadata": {
    "collapsed": true,
    "ExecuteTime": {
     "end_time": "2023-12-13T18:11:51.559519300Z",
     "start_time": "2023-12-13T18:11:51.542778800Z"
    }
   },
   "outputs": [],
   "source": [
    "import gspread\n",
    "from oauth2client.service_account import ServiceAccountCredentials\n",
    "import pandas as pd"
   ]
  },
  {
   "cell_type": "code",
   "execution_count": 44,
   "outputs": [],
   "source": [
    "credentials_path = '../riasec-model-1-c1119188e695.json' \n",
    "\n",
    "spreadsheet_url = 'https://docs.google.com/spreadsheets/d/1x4e-yyXWHMZW9ZXiOb_oUnZLHukOWg1cc0Qf5jL2aLM/edit?usp=sharing'\n",
    "\n",
    "scope = ['https://spreadsheets.google.com/feeds', 'https://www.googleapis.com/auth/drive']\n",
    "credentials = ServiceAccountCredentials.from_json_keyfile_name(credentials_path, scope)\n",
    "gc = gspread.authorize(credentials)\n",
    "\n",
    "spreadsheet = gc.open_by_url(spreadsheet_url)\n",
    "\n",
    "worksheet = spreadsheet.get_worksheet(0)\n",
    "\n",
    "data = worksheet.get_all_values()\n",
    "\n",
    "df = pd.DataFrame(data[1:], columns=data[0])"
   ],
   "metadata": {
    "collapsed": false,
    "ExecuteTime": {
     "end_time": "2023-12-13T18:11:53.153851900Z",
     "start_time": "2023-12-13T18:11:51.555532800Z"
    }
   },
   "id": "385dbf5c01df6437"
  },
  {
   "cell_type": "code",
   "execution_count": 45,
   "outputs": [
    {
     "data": {
      "text/plain": "         Позначка часу  \\\n0  13.12.2023 17:14:56   \n1  13.12.2023 17:21:03   \n\n  Коли я отримую подарунки, я більше ціную практичні та корисні речі, ніж щось декоративне  \\\n0                                                  3                                         \n1                                                  2                                         \n\n  Моя енергія ніколи не вичерпується  \\\n0                                  2   \n1                                  3   \n\n  Теоретичні ідеї та дилеми – це не те, на що варто витрачати багато часу\\n(на скільки Ви погоджуєтесь з твердженням)  \\\n0                                                  4                                                                    \n1                                                  1                                                                    \n\n  Чи вам подобається займатися фізичною активністю та спортом?   \\\n0                                                  3              \n1                                                  4              \n\n  Чи цікавить вас робота з різноманітними інструментами?   \\\n0                                                  5        \n1                                                  3        \n\n  Чи вам подобається працювати на відкритому повітрі?   \\\n0                                                  4     \n1                                                  5     \n\n  Чи вам цікаво розв'язувати складні математичні задачі?   \\\n0                                                  3        \n1                                                  3        \n\n  Чи любите ви читати наукові книги або журнали?   \\\n0                                               5   \n1                                               4   \n\n  Мені завжди цікаво почути унікальні точки зору на речі  ...  \\\n0                                                  4      ...   \n1                                                  2      ...   \n\n  Я чудово вмію змусити інших підтримати мої ідеї\\n\\n  \\\n0                                                  4    \n1                                                  3    \n\n  Я легко можу змінити думки оточуючих щодо якоїсь теми   \\\n0                                                  3       \n1                                                  2       \n\n  Чи вам подобається приймати важливі рішення та вирішувати проблеми?   \\\n0                                                  4                     \n1                                                  3                     \n\n  Чи берете ви участь у лідерських або підприємницьких ініціативах?   \\\n0                                                  3                   \n1                                                  2                   \n\n  Чи вам подобається порядок і систематичність в роботі?   \\\n0                                                  3        \n1                                                  2        \n\n  Я завжди докладаю максимальних зусиль, щоб уникнути помилок\\n\\n  \\\n0                                                  4                \n1                                                  3                \n\n  Чи легше вам працювати за чіткими правилами і встановленими стандартами?   \\\n0                                                  4                          \n1                                                  2                          \n\n  Чи цікавитеся ви організаційними аспектами роботи?   \\\n0                                                  3    \n1                                                  4    \n\n  Я віддаю перевагу дотриманню правил, ніж імпровізації  \\\n0                                                  5      \n1                                                  3      \n\n  Я легко концентруюсь на задачах які виконую та мене важко відволікти після погруження в роботу  \n0                                                  3                                              \n1                                                  4                                              \n\n[2 rows x 37 columns]",
      "text/html": "<div>\n<style scoped>\n    .dataframe tbody tr th:only-of-type {\n        vertical-align: middle;\n    }\n\n    .dataframe tbody tr th {\n        vertical-align: top;\n    }\n\n    .dataframe thead th {\n        text-align: right;\n    }\n</style>\n<table border=\"1\" class=\"dataframe\">\n  <thead>\n    <tr style=\"text-align: right;\">\n      <th></th>\n      <th>Позначка часу</th>\n      <th>Коли я отримую подарунки, я більше ціную практичні та корисні речі, ніж щось декоративне</th>\n      <th>Моя енергія ніколи не вичерпується</th>\n      <th>Теоретичні ідеї та дилеми – це не те, на що варто витрачати багато часу\\n(на скільки Ви погоджуєтесь з твердженням)</th>\n      <th>Чи вам подобається займатися фізичною активністю та спортом?</th>\n      <th>Чи цікавить вас робота з різноманітними інструментами?</th>\n      <th>Чи вам подобається працювати на відкритому повітрі?</th>\n      <th>Чи вам цікаво розв'язувати складні математичні задачі?</th>\n      <th>Чи любите ви читати наукові книги або журнали?</th>\n      <th>Мені завжди цікаво почути унікальні точки зору на речі</th>\n      <th>...</th>\n      <th>Я чудово вмію змусити інших підтримати мої ідеї\\n\\n</th>\n      <th>Я легко можу змінити думки оточуючих щодо якоїсь теми</th>\n      <th>Чи вам подобається приймати важливі рішення та вирішувати проблеми?</th>\n      <th>Чи берете ви участь у лідерських або підприємницьких ініціативах?</th>\n      <th>Чи вам подобається порядок і систематичність в роботі?</th>\n      <th>Я завжди докладаю максимальних зусиль, щоб уникнути помилок\\n\\n</th>\n      <th>Чи легше вам працювати за чіткими правилами і встановленими стандартами?</th>\n      <th>Чи цікавитеся ви організаційними аспектами роботи?</th>\n      <th>Я віддаю перевагу дотриманню правил, ніж імпровізації</th>\n      <th>Я легко концентруюсь на задачах які виконую та мене важко відволікти після погруження в роботу</th>\n    </tr>\n  </thead>\n  <tbody>\n    <tr>\n      <th>0</th>\n      <td>13.12.2023 17:14:56</td>\n      <td>3</td>\n      <td>2</td>\n      <td>4</td>\n      <td>3</td>\n      <td>5</td>\n      <td>4</td>\n      <td>3</td>\n      <td>5</td>\n      <td>4</td>\n      <td>...</td>\n      <td>4</td>\n      <td>3</td>\n      <td>4</td>\n      <td>3</td>\n      <td>3</td>\n      <td>4</td>\n      <td>4</td>\n      <td>3</td>\n      <td>5</td>\n      <td>3</td>\n    </tr>\n    <tr>\n      <th>1</th>\n      <td>13.12.2023 17:21:03</td>\n      <td>2</td>\n      <td>3</td>\n      <td>1</td>\n      <td>4</td>\n      <td>3</td>\n      <td>5</td>\n      <td>3</td>\n      <td>4</td>\n      <td>2</td>\n      <td>...</td>\n      <td>3</td>\n      <td>2</td>\n      <td>3</td>\n      <td>2</td>\n      <td>2</td>\n      <td>3</td>\n      <td>2</td>\n      <td>4</td>\n      <td>3</td>\n      <td>4</td>\n    </tr>\n  </tbody>\n</table>\n<p>2 rows × 37 columns</p>\n</div>"
     },
     "execution_count": 45,
     "metadata": {},
     "output_type": "execute_result"
    }
   ],
   "source": [
    "df.head(2)"
   ],
   "metadata": {
    "collapsed": false,
    "ExecuteTime": {
     "end_time": "2023-12-13T18:11:53.170309700Z",
     "start_time": "2023-12-13T18:11:53.152347400Z"
    }
   },
   "id": "e75bcedee2743dd6"
  },
  {
   "cell_type": "code",
   "execution_count": 46,
   "outputs": [
    {
     "data": {
      "text/plain": "Index(['Позначка часу',\n       'Коли я отримую подарунки, я більше ціную практичні та корисні речі, ніж щось декоративне',\n       'Моя енергія ніколи не вичерпується',\n       'Теоретичні ідеї та дилеми – це не те, на що варто витрачати багато часу\\n(на скільки Ви погоджуєтесь з твердженням)',\n       'Чи вам подобається займатися фізичною активністю та спортом? ',\n       'Чи цікавить вас робота з різноманітними інструментами? ',\n       'Чи вам подобається працювати на відкритому повітрі? ',\n       'Чи вам цікаво розв'язувати складні математичні задачі? ',\n       'Чи любите ви читати наукові книги або журнали? ',\n       'Мені завжди цікаво почути унікальні точки зору на речі',\n       'Мені подобається вивчати різноманітну інформацію про будь-яку тему',\n       'Як ви відноситесь до вивчення нових технологій та програм? ',\n       'Люди часто кажуть мені, що мої ідеї геніальні',\n       'Немає такої форми мистецтва чи події, яку б я не хотів би дослідити/відвідати',\n       'Мені важливий простір для вираження своєї творчості',\n       'Мені подобається компанія людей з дивним і нестандартним мисленням',\n       'Чи ви любите творчі заняття, такі як малювання або музика? ',\n       'Як ви відноситесь до участі в театральних виставах або музичних концертах? ',\n       'Чи цікавитеся ви створенням чого-небудь нового, наприклад, дизайном або рукоділлям? ',\n       'Чи легко ви заводите нових друзів та спілкуєтеся з іншими? ',\n       'Я надаю перевагу проводити вільний час в компанії друзів чи на людних заходах, ніж вдома на самоті',\n       'Я завжди в курсі того, як складається життя оточуючих',\n       'Я вважаю себе досить некритичним і толерантним до інших\\n',\n       'Чи вам подобається допомагати людям вирішувати їх проблеми? ',\n       'Як ви відноситесь до участі в групових заходах чи проектах? ',\n       'Чи ви цікавитеся створенням та веденням свого бізнесу? ',\n       'Я охоче приймаю будь-яку можливість обговорити суперечливі теми',\n       'Я чудово вмію змусити інших підтримати мої ідеї\\n\\n',\n       'Я легко можу змінити думки оточуючих щодо якоїсь теми ',\n       'Чи вам подобається приймати важливі рішення та вирішувати проблеми? ',\n       'Чи берете ви участь у лідерських або підприємницьких ініціативах? ',\n       'Чи вам подобається порядок і систематичність в роботі? ',\n       'Я завжди докладаю максимальних зусиль, щоб уникнути помилок\\n\\n',\n       'Чи легше вам працювати за чіткими правилами і встановленими стандартами? ',\n       'Чи цікавитеся ви організаційними аспектами роботи? ',\n       'Я віддаю перевагу дотриманню правил, ніж імпровізації',\n       'Я легко концентруюсь на задачах які виконую та мене важко відволікти після погруження в роботу'],\n      dtype='object')"
     },
     "execution_count": 46,
     "metadata": {},
     "output_type": "execute_result"
    }
   ],
   "source": [
    "df.columns"
   ],
   "metadata": {
    "collapsed": false,
    "ExecuteTime": {
     "end_time": "2023-12-13T18:11:53.237673200Z",
     "start_time": "2023-12-13T18:11:53.168312Z"
    }
   },
   "id": "a522e8b86c4cf30f"
  },
  {
   "cell_type": "code",
   "execution_count": 47,
   "outputs": [
    {
     "name": "stdout",
     "output_type": "stream",
     "text": [
      "<class 'str'>\n"
     ]
    }
   ],
   "source": [
    "element_type = type(df[\"Чи вам подобається займатися фізичною активністю та спортом? \"][0])\n",
    "\n",
    "print(element_type)"
   ],
   "metadata": {
    "collapsed": false,
    "ExecuteTime": {
     "end_time": "2023-12-13T18:11:53.254208200Z",
     "start_time": "2023-12-13T18:11:53.202275100Z"
    }
   },
   "id": "b1b400dc7c009f2e"
  },
  {
   "cell_type": "code",
   "execution_count": 48,
   "outputs": [
    {
     "data": {
      "text/plain": "         Позначка часу  \\\n0  13.12.2023 17:14:56   \n1  13.12.2023 17:21:03   \n2  13.12.2023 17:47:13   \n3  13.12.2023 18:03:34   \n4  13.12.2023 18:05:36   \n5  13.12.2023 18:09:50   \n\n   Коли я отримую подарунки, я більше ціную практичні та корисні речі, ніж щось декоративне  \\\n0                                                  3                                          \n1                                                  2                                          \n2                                                  3                                          \n3                                                  1                                          \n4                                                  5                                          \n5                                                  1                                          \n\n   Моя енергія ніколи не вичерпується  \\\n0                                   2   \n1                                   3   \n2                                   4   \n3                                   1   \n4                                   5   \n5                                   1   \n\n   Теоретичні ідеї та дилеми – це не те, на що варто витрачати багато часу\\n(на скільки Ви погоджуєтесь з твердженням)  \\\n0                                                  4                                                                     \n1                                                  1                                                                     \n2                                                  5                                                                     \n3                                                  5                                                                     \n4                                                  3                                                                     \n5                                                  1                                                                     \n\n   Чи вам подобається займатися фізичною активністю та спортом?   \\\n0                                                  3               \n1                                                  4               \n2                                                  5               \n3                                                  1               \n4                                                  4               \n5                                                  4               \n\n   Чи цікавить вас робота з різноманітними інструментами?   \\\n0                                                  5         \n1                                                  3         \n2                                                  4         \n3                                                  1         \n4                                                  4         \n5                                                  5         \n\n   Чи вам подобається працювати на відкритому повітрі?   \\\n0                                                  4      \n1                                                  5      \n2                                                  4      \n3                                                  5      \n4                                                  5      \n5                                                  5      \n\n   Чи вам цікаво розв'язувати складні математичні задачі?   \\\n0                                                  3         \n1                                                  3         \n2                                                  3         \n3                                                  1         \n4                                                  5         \n5                                                  3         \n\n   Чи любите ви читати наукові книги або журнали?   \\\n0                                                5   \n1                                                4   \n2                                                5   \n3                                                1   \n4                                                5   \n5                                                1   \n\n   Мені завжди цікаво почути унікальні точки зору на речі  ...  \\\n0                                                  4       ...   \n1                                                  2       ...   \n2                                                  5       ...   \n3                                                  1       ...   \n4                                                  5       ...   \n5                                                  5       ...   \n\n   Я чудово вмію змусити інших підтримати мої ідеї\\n\\n  \\\n0                                                  4     \n1                                                  3     \n2                                                  4     \n3                                                  5     \n4                                                  5     \n5                                                  1     \n\n   Я легко можу змінити думки оточуючих щодо якоїсь теми   \\\n0                                                  3        \n1                                                  2        \n2                                                  3        \n3                                                  2        \n4                                                  5        \n5                                                  1        \n\n   Чи вам подобається приймати важливі рішення та вирішувати проблеми?   \\\n0                                                  4                      \n1                                                  3                      \n2                                                  5                      \n3                                                  1                      \n4                                                  5                      \n5                                                  4                      \n\n   Чи берете ви участь у лідерських або підприємницьких ініціативах?   \\\n0                                                  3                    \n1                                                  2                    \n2                                                  2                    \n3                                                  1                    \n4                                                  5                    \n5                                                  1                    \n\n   Чи вам подобається порядок і систематичність в роботі?   \\\n0                                                  3         \n1                                                  2         \n2                                                  5         \n3                                                  1         \n4                                                  4         \n5                                                  4         \n\n   Я завжди докладаю максимальних зусиль, щоб уникнути помилок\\n\\n  \\\n0                                                  4                 \n1                                                  3                 \n2                                                  5                 \n3                                                  1                 \n4                                                  4                 \n5                                                  2                 \n\n   Чи легше вам працювати за чіткими правилами і встановленими стандартами?   \\\n0                                                  4                           \n1                                                  2                           \n2                                                  3                           \n3                                                  1                           \n4                                                  3                           \n5                                                  3                           \n\n   Чи цікавитеся ви організаційними аспектами роботи?   \\\n0                                                  3     \n1                                                  4     \n2                                                  5     \n3                                                  3     \n4                                                  4     \n5                                                  4     \n\n   Я віддаю перевагу дотриманню правил, ніж імпровізації  \\\n0                                                  5       \n1                                                  3       \n2                                                  1       \n3                                                  1       \n4                                                  2       \n5                                                  3       \n\n   Я легко концентруюсь на задачах які виконую та мене важко відволікти після погруження в роботу  \n0                                                  3                                               \n1                                                  4                                               \n2                                                  2                                               \n3                                                  1                                               \n4                                                  1                                               \n5                                                  3                                               \n\n[6 rows x 37 columns]",
      "text/html": "<div>\n<style scoped>\n    .dataframe tbody tr th:only-of-type {\n        vertical-align: middle;\n    }\n\n    .dataframe tbody tr th {\n        vertical-align: top;\n    }\n\n    .dataframe thead th {\n        text-align: right;\n    }\n</style>\n<table border=\"1\" class=\"dataframe\">\n  <thead>\n    <tr style=\"text-align: right;\">\n      <th></th>\n      <th>Позначка часу</th>\n      <th>Коли я отримую подарунки, я більше ціную практичні та корисні речі, ніж щось декоративне</th>\n      <th>Моя енергія ніколи не вичерпується</th>\n      <th>Теоретичні ідеї та дилеми – це не те, на що варто витрачати багато часу\\n(на скільки Ви погоджуєтесь з твердженням)</th>\n      <th>Чи вам подобається займатися фізичною активністю та спортом?</th>\n      <th>Чи цікавить вас робота з різноманітними інструментами?</th>\n      <th>Чи вам подобається працювати на відкритому повітрі?</th>\n      <th>Чи вам цікаво розв'язувати складні математичні задачі?</th>\n      <th>Чи любите ви читати наукові книги або журнали?</th>\n      <th>Мені завжди цікаво почути унікальні точки зору на речі</th>\n      <th>...</th>\n      <th>Я чудово вмію змусити інших підтримати мої ідеї\\n\\n</th>\n      <th>Я легко можу змінити думки оточуючих щодо якоїсь теми</th>\n      <th>Чи вам подобається приймати важливі рішення та вирішувати проблеми?</th>\n      <th>Чи берете ви участь у лідерських або підприємницьких ініціативах?</th>\n      <th>Чи вам подобається порядок і систематичність в роботі?</th>\n      <th>Я завжди докладаю максимальних зусиль, щоб уникнути помилок\\n\\n</th>\n      <th>Чи легше вам працювати за чіткими правилами і встановленими стандартами?</th>\n      <th>Чи цікавитеся ви організаційними аспектами роботи?</th>\n      <th>Я віддаю перевагу дотриманню правил, ніж імпровізації</th>\n      <th>Я легко концентруюсь на задачах які виконую та мене важко відволікти після погруження в роботу</th>\n    </tr>\n  </thead>\n  <tbody>\n    <tr>\n      <th>0</th>\n      <td>13.12.2023 17:14:56</td>\n      <td>3</td>\n      <td>2</td>\n      <td>4</td>\n      <td>3</td>\n      <td>5</td>\n      <td>4</td>\n      <td>3</td>\n      <td>5</td>\n      <td>4</td>\n      <td>...</td>\n      <td>4</td>\n      <td>3</td>\n      <td>4</td>\n      <td>3</td>\n      <td>3</td>\n      <td>4</td>\n      <td>4</td>\n      <td>3</td>\n      <td>5</td>\n      <td>3</td>\n    </tr>\n    <tr>\n      <th>1</th>\n      <td>13.12.2023 17:21:03</td>\n      <td>2</td>\n      <td>3</td>\n      <td>1</td>\n      <td>4</td>\n      <td>3</td>\n      <td>5</td>\n      <td>3</td>\n      <td>4</td>\n      <td>2</td>\n      <td>...</td>\n      <td>3</td>\n      <td>2</td>\n      <td>3</td>\n      <td>2</td>\n      <td>2</td>\n      <td>3</td>\n      <td>2</td>\n      <td>4</td>\n      <td>3</td>\n      <td>4</td>\n    </tr>\n    <tr>\n      <th>2</th>\n      <td>13.12.2023 17:47:13</td>\n      <td>3</td>\n      <td>4</td>\n      <td>5</td>\n      <td>5</td>\n      <td>4</td>\n      <td>4</td>\n      <td>3</td>\n      <td>5</td>\n      <td>5</td>\n      <td>...</td>\n      <td>4</td>\n      <td>3</td>\n      <td>5</td>\n      <td>2</td>\n      <td>5</td>\n      <td>5</td>\n      <td>3</td>\n      <td>5</td>\n      <td>1</td>\n      <td>2</td>\n    </tr>\n    <tr>\n      <th>3</th>\n      <td>13.12.2023 18:03:34</td>\n      <td>1</td>\n      <td>1</td>\n      <td>5</td>\n      <td>1</td>\n      <td>1</td>\n      <td>5</td>\n      <td>1</td>\n      <td>1</td>\n      <td>1</td>\n      <td>...</td>\n      <td>5</td>\n      <td>2</td>\n      <td>1</td>\n      <td>1</td>\n      <td>1</td>\n      <td>1</td>\n      <td>1</td>\n      <td>3</td>\n      <td>1</td>\n      <td>1</td>\n    </tr>\n    <tr>\n      <th>4</th>\n      <td>13.12.2023 18:05:36</td>\n      <td>5</td>\n      <td>5</td>\n      <td>3</td>\n      <td>4</td>\n      <td>4</td>\n      <td>5</td>\n      <td>5</td>\n      <td>5</td>\n      <td>5</td>\n      <td>...</td>\n      <td>5</td>\n      <td>5</td>\n      <td>5</td>\n      <td>5</td>\n      <td>4</td>\n      <td>4</td>\n      <td>3</td>\n      <td>4</td>\n      <td>2</td>\n      <td>1</td>\n    </tr>\n    <tr>\n      <th>5</th>\n      <td>13.12.2023 18:09:50</td>\n      <td>1</td>\n      <td>1</td>\n      <td>1</td>\n      <td>4</td>\n      <td>5</td>\n      <td>5</td>\n      <td>3</td>\n      <td>1</td>\n      <td>5</td>\n      <td>...</td>\n      <td>1</td>\n      <td>1</td>\n      <td>4</td>\n      <td>1</td>\n      <td>4</td>\n      <td>2</td>\n      <td>3</td>\n      <td>4</td>\n      <td>3</td>\n      <td>3</td>\n    </tr>\n  </tbody>\n</table>\n<p>6 rows × 37 columns</p>\n</div>"
     },
     "execution_count": 48,
     "metadata": {},
     "output_type": "execute_result"
    }
   ],
   "source": [
    "numeric_columns = df.columns[1:]\n",
    "\n",
    "df[numeric_columns] = df[numeric_columns].apply(pd.to_numeric, errors='coerce')\n",
    "\n",
    "df"
   ],
   "metadata": {
    "collapsed": false,
    "ExecuteTime": {
     "end_time": "2023-12-13T18:11:53.256275900Z",
     "start_time": "2023-12-13T18:11:53.216780500Z"
    }
   },
   "id": "ad90ee7e6ab7c42a"
  },
  {
   "cell_type": "code",
   "execution_count": 49,
   "outputs": [
    {
     "name": "stdout",
     "output_type": "stream",
     "text": [
      "<class 'numpy.int64'>\n"
     ]
    }
   ],
   "source": [
    "element_type = type(df[\"Чи вам подобається займатися фізичною активністю та спортом? \"][0])\n",
    "\n",
    "print(element_type)"
   ],
   "metadata": {
    "collapsed": false,
    "ExecuteTime": {
     "end_time": "2023-12-13T18:11:53.323854500Z",
     "start_time": "2023-12-13T18:11:53.248705400Z"
    }
   },
   "id": "b8365cfc83cad4d5"
  },
  {
   "cell_type": "code",
   "execution_count": 50,
   "outputs": [
    {
     "data": {
      "text/plain": "         Позначка часу  Realistic  Investigative  Artistic  Social  \\\n0                  NaN        NaN            NaN       NaN     NaN   \n1                  NaN        NaN            NaN       NaN     NaN   \n2                  NaN        NaN            NaN       NaN     NaN   \n3                  NaN        NaN            NaN       NaN     NaN   \n4                  NaN        NaN            NaN       NaN     NaN   \n5  13.12.2023 18:09:50        2.4            3.4       5.0     2.6   \n\n   Enterprising  Conventional  \n0           NaN           NaN  \n1           NaN           NaN  \n2           NaN           NaN  \n3           NaN           NaN  \n4           NaN           NaN  \n5           2.4           3.2  ",
      "text/html": "<div>\n<style scoped>\n    .dataframe tbody tr th:only-of-type {\n        vertical-align: middle;\n    }\n\n    .dataframe tbody tr th {\n        vertical-align: top;\n    }\n\n    .dataframe thead th {\n        text-align: right;\n    }\n</style>\n<table border=\"1\" class=\"dataframe\">\n  <thead>\n    <tr style=\"text-align: right;\">\n      <th></th>\n      <th>Позначка часу</th>\n      <th>Realistic</th>\n      <th>Investigative</th>\n      <th>Artistic</th>\n      <th>Social</th>\n      <th>Enterprising</th>\n      <th>Conventional</th>\n    </tr>\n  </thead>\n  <tbody>\n    <tr>\n      <th>0</th>\n      <td>NaN</td>\n      <td>NaN</td>\n      <td>NaN</td>\n      <td>NaN</td>\n      <td>NaN</td>\n      <td>NaN</td>\n      <td>NaN</td>\n    </tr>\n    <tr>\n      <th>1</th>\n      <td>NaN</td>\n      <td>NaN</td>\n      <td>NaN</td>\n      <td>NaN</td>\n      <td>NaN</td>\n      <td>NaN</td>\n      <td>NaN</td>\n    </tr>\n    <tr>\n      <th>2</th>\n      <td>NaN</td>\n      <td>NaN</td>\n      <td>NaN</td>\n      <td>NaN</td>\n      <td>NaN</td>\n      <td>NaN</td>\n      <td>NaN</td>\n    </tr>\n    <tr>\n      <th>3</th>\n      <td>NaN</td>\n      <td>NaN</td>\n      <td>NaN</td>\n      <td>NaN</td>\n      <td>NaN</td>\n      <td>NaN</td>\n      <td>NaN</td>\n    </tr>\n    <tr>\n      <th>4</th>\n      <td>NaN</td>\n      <td>NaN</td>\n      <td>NaN</td>\n      <td>NaN</td>\n      <td>NaN</td>\n      <td>NaN</td>\n      <td>NaN</td>\n    </tr>\n    <tr>\n      <th>5</th>\n      <td>13.12.2023 18:09:50</td>\n      <td>2.4</td>\n      <td>3.4</td>\n      <td>5.0</td>\n      <td>2.6</td>\n      <td>2.4</td>\n      <td>3.2</td>\n    </tr>\n  </tbody>\n</table>\n</div>"
     },
     "execution_count": 50,
     "metadata": {},
     "output_type": "execute_result"
    }
   ],
   "source": [
    "numeric_columns = df.columns[1:]\n",
    "\n",
    "\n",
    "riasec_columns = ['Realistic', 'Investigative', 'Artistic', 'Social', 'Enterprising', 'Conventional']\n",
    "\n",
    "\n",
    "number_of_questions = 36\n",
    "questions_per_section = 6\n",
    "averages_df = pd.DataFrame()\n",
    "\n",
    "for i in range(0, number_of_questions, questions_per_section):\n",
    "    start_idx = i\n",
    "    end_idx = i + questions_per_section\n",
    "    selected_cols = df.columns[start_idx+1:end_idx]\n",
    "    averages_df[riasec_columns[int(end_idx/questions_per_section)-1]] = df[selected_cols].mean(axis=1)\n",
    "\n",
    "\n",
    "final_df = pd.concat([df['Позначка часу'], averages_df], axis=1)\n",
    "\n"
   ],
   "metadata": {
    "collapsed": false,
    "ExecuteTime": {
     "end_time": "2023-12-13T18:11:53.325889200Z",
     "start_time": "2023-12-13T18:11:53.263531600Z"
    }
   },
   "id": "9a5b8b24be355ca2"
  },
  {
   "cell_type": "code",
   "execution_count": 50,
   "outputs": [],
   "source": [],
   "metadata": {
    "collapsed": false,
    "ExecuteTime": {
     "end_time": "2023-12-13T18:11:53.354894200Z",
     "start_time": "2023-12-13T18:11:53.295865600Z"
    }
   },
   "id": "e541a7a796a7742d"
  }
 ],
 "metadata": {
  "kernelspec": {
   "display_name": "Python 3",
   "language": "python",
   "name": "python3"
  },
  "language_info": {
   "codemirror_mode": {
    "name": "ipython",
    "version": 2
   },
   "file_extension": ".py",
   "mimetype": "text/x-python",
   "name": "python",
   "nbconvert_exporter": "python",
   "pygments_lexer": "ipython2",
   "version": "2.7.6"
  }
 },
 "nbformat": 4,
 "nbformat_minor": 5
}
