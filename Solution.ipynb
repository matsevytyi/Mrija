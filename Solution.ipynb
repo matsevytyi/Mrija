{
 "cells": [
  {
   "cell_type": "code",
   "execution_count": 4,
   "id": "initial_id",
   "metadata": {
    "collapsed": true,
    "ExecuteTime": {
     "end_time": "2023-12-13T13:16:04.607852600Z",
     "start_time": "2023-12-13T13:16:04.576023600Z"
    }
   },
   "outputs": [],
   "source": [
    "import gspread\n",
    "from oauth2client.service_account import ServiceAccountCredentials\n",
    "import pandas as pd"
   ]
  },
  {
   "cell_type": "code",
   "execution_count": 5,
   "outputs": [],
   "source": [
    "credentials_path = '../riasec-model-1-c1119188e695.json'  # Replace with the actual path\n",
    "\n",
    "spreadsheet_url = 'https://docs.google.com/spreadsheets/d/17XYkJYNmepEpBvGu6fcibaHmJ0wUmB-Aup21XXz6UEA/edit?usp=sharing'\n",
    "\n",
    "scope = ['https://spreadsheets.google.com/feeds', 'https://www.googleapis.com/auth/drive']\n",
    "credentials = ServiceAccountCredentials.from_json_keyfile_name(credentials_path, scope)\n",
    "gc = gspread.authorize(credentials)\n",
    "\n",
    "spreadsheet = gc.open_by_url(spreadsheet_url)\n",
    "\n",
    "worksheet = spreadsheet.get_worksheet(0)\n",
    "\n",
    "data = worksheet.get_all_values()\n",
    "\n",
    "df = pd.DataFrame(data[1:], columns=data[0])"
   ],
   "metadata": {
    "collapsed": false,
    "ExecuteTime": {
     "end_time": "2023-12-13T13:16:06.776794300Z",
     "start_time": "2023-12-13T13:16:04.607852600Z"
    }
   },
   "id": "385dbf5c01df6437"
  },
  {
   "cell_type": "code",
   "execution_count": 6,
   "outputs": [
    {
     "name": "stdout",
     "output_type": "stream",
     "text": [
      "         Позначка часу  \\\n",
      "0  12.12.2023 23:59:04   \n",
      "1  12.12.2023 23:59:37   \n",
      "\n",
      "  Чи вам подобається займатися фізичною активністю та спортом?   \\\n",
      "0                                                  4              \n",
      "1                                                  2              \n",
      "\n",
      "  Чи цікавить вас робота з різноманітними інструментами?   \\\n",
      "0                                                  5        \n",
      "1                                                  2        \n",
      "\n",
      "  Чи вам подобається працювати на відкритому повітрі?   \\\n",
      "0                                                  3     \n",
      "1                                                  3     \n",
      "\n",
      "  Чи вам цікаво розв'язувати складні математичні задачі?   \\\n",
      "0                                                  2        \n",
      "1                                                  1        \n",
      "\n",
      "  Чи любите ви читати наукові книги або журнали?   \\\n",
      "0                                               3   \n",
      "1                                               3   \n",
      "\n",
      "  Як ви відноситесь до вивчення нових технологій та програм?   \\\n",
      "0                                                  2            \n",
      "1                                                  3            \n",
      "\n",
      "  Чи ви любите творчі заняття, такі як малювання або музика?   \\\n",
      "0                                                  4            \n",
      "1                                                  2            \n",
      "\n",
      "  Як ви відноситесь до участі в театральних виставах або музичних концертах?   \\\n",
      "0                                                  4                            \n",
      "1                                                  2                            \n",
      "\n",
      "  Чи цікавитеся ви створенням чого-небудь нового, наприклад, дизайном або рукоділлям?   \\\n",
      "0                                                  4                                     \n",
      "1                                                  3                                     \n",
      "\n",
      "  Чи легко ви заводите нових друзів та спілкуєтеся з іншими?   \\\n",
      "0                                                  5            \n",
      "1                                                  3            \n",
      "\n",
      "  Чи вам подобається допомагати людям вирішувати їх проблеми?   \\\n",
      "0                                                  3             \n",
      "1                                                  2             \n",
      "\n",
      "  Як ви відноситесь до участі в групових заходах чи проектах?   \\\n",
      "0                                                  4             \n",
      "1                                                  3             \n",
      "\n",
      "  Чи ви цікавитеся створенням та веденням свого бізнесу?   \\\n",
      "0                                                  5        \n",
      "1                                                  1        \n",
      "\n",
      "  Чи вам подобається приймати важливі рішення та вирішувати проблеми?   \\\n",
      "0                                                  3                     \n",
      "1                                                  3                     \n",
      "\n",
      "  Чи берете ви участь у лідерських або підприємницьких ініціативах?   \\\n",
      "0                                                  4                   \n",
      "1                                                  2                   \n",
      "\n",
      "  Чи вам подобається порядок і систематичність в роботі?   \\\n",
      "0                                                  3        \n",
      "1                                                  3        \n",
      "\n",
      "  Чи легше вам працювати за чіткими правилами і встановленими стандартами?   \\\n",
      "0                                                  4                          \n",
      "1                                                  2                          \n",
      "\n",
      "  Чи цікавитеся ви організаційними аспектами роботи?   \n",
      "0                                                  3   \n",
      "1                                                  3   \n"
     ]
    }
   ],
   "source": [
    "print(df.head(2))"
   ],
   "metadata": {
    "collapsed": false,
    "ExecuteTime": {
     "end_time": "2023-12-13T13:16:06.846574600Z",
     "start_time": "2023-12-13T13:16:06.768238800Z"
    }
   },
   "id": "e75bcedee2743dd6"
  },
  {
   "cell_type": "code",
   "execution_count": 7,
   "outputs": [
    {
     "data": {
      "text/plain": "Index(['Позначка часу',\n       'Чи вам подобається займатися фізичною активністю та спортом? ',\n       'Чи цікавить вас робота з різноманітними інструментами? ',\n       'Чи вам подобається працювати на відкритому повітрі? ',\n       'Чи вам цікаво розв'язувати складні математичні задачі? ',\n       'Чи любите ви читати наукові книги або журнали? ',\n       'Як ви відноситесь до вивчення нових технологій та програм? ',\n       'Чи ви любите творчі заняття, такі як малювання або музика? ',\n       'Як ви відноситесь до участі в театральних виставах або музичних концертах? ',\n       'Чи цікавитеся ви створенням чого-небудь нового, наприклад, дизайном або рукоділлям? ',\n       'Чи легко ви заводите нових друзів та спілкуєтеся з іншими? ',\n       'Чи вам подобається допомагати людям вирішувати їх проблеми? ',\n       'Як ви відноситесь до участі в групових заходах чи проектах? ',\n       'Чи ви цікавитеся створенням та веденням свого бізнесу? ',\n       'Чи вам подобається приймати важливі рішення та вирішувати проблеми? ',\n       'Чи берете ви участь у лідерських або підприємницьких ініціативах? ',\n       'Чи вам подобається порядок і систематичність в роботі? ',\n       'Чи легше вам працювати за чіткими правилами і встановленими стандартами? ',\n       'Чи цікавитеся ви організаційними аспектами роботи? '],\n      dtype='object')"
     },
     "execution_count": 7,
     "metadata": {},
     "output_type": "execute_result"
    }
   ],
   "source": [
    "df.columns"
   ],
   "metadata": {
    "collapsed": false,
    "ExecuteTime": {
     "end_time": "2023-12-13T13:16:06.847577700Z",
     "start_time": "2023-12-13T13:16:06.799709700Z"
    }
   },
   "id": "a522e8b86c4cf30f"
  },
  {
   "cell_type": "code",
   "execution_count": 8,
   "outputs": [
    {
     "name": "stdout",
     "output_type": "stream",
     "text": [
      "<class 'str'>\n"
     ]
    }
   ],
   "source": [
    "element_type = type(df[\"Чи вам подобається займатися фізичною активністю та спортом? \"][0])\n",
    "\n",
    "print(element_type)"
   ],
   "metadata": {
    "collapsed": false,
    "ExecuteTime": {
     "end_time": "2023-12-13T13:16:06.862662300Z",
     "start_time": "2023-12-13T13:16:06.815333100Z"
    }
   },
   "id": "b1b400dc7c009f2e"
  },
  {
   "cell_type": "code",
   "execution_count": 9,
   "outputs": [
    {
     "name": "stdout",
     "output_type": "stream",
     "text": [
      "         Позначка часу  \\\n",
      "0  12.12.2023 23:59:04   \n",
      "1  12.12.2023 23:59:37   \n",
      "\n",
      "   Чи вам подобається займатися фізичною активністю та спортом?   \\\n",
      "0                                                  4               \n",
      "1                                                  2               \n",
      "\n",
      "   Чи цікавить вас робота з різноманітними інструментами?   \\\n",
      "0                                                  5         \n",
      "1                                                  2         \n",
      "\n",
      "   Чи вам подобається працювати на відкритому повітрі?   \\\n",
      "0                                                  3      \n",
      "1                                                  3      \n",
      "\n",
      "   Чи вам цікаво розв'язувати складні математичні задачі?   \\\n",
      "0                                                  2         \n",
      "1                                                  1         \n",
      "\n",
      "   Чи любите ви читати наукові книги або журнали?   \\\n",
      "0                                                3   \n",
      "1                                                3   \n",
      "\n",
      "   Як ви відноситесь до вивчення нових технологій та програм?   \\\n",
      "0                                                  2             \n",
      "1                                                  3             \n",
      "\n",
      "   Чи ви любите творчі заняття, такі як малювання або музика?   \\\n",
      "0                                                  4             \n",
      "1                                                  2             \n",
      "\n",
      "   Як ви відноситесь до участі в театральних виставах або музичних концертах?   \\\n",
      "0                                                  4                             \n",
      "1                                                  2                             \n",
      "\n",
      "   Чи цікавитеся ви створенням чого-небудь нового, наприклад, дизайном або рукоділлям?   \\\n",
      "0                                                  4                                      \n",
      "1                                                  3                                      \n",
      "\n",
      "   Чи легко ви заводите нових друзів та спілкуєтеся з іншими?   \\\n",
      "0                                                  5             \n",
      "1                                                  3             \n",
      "\n",
      "   Чи вам подобається допомагати людям вирішувати їх проблеми?   \\\n",
      "0                                                  3              \n",
      "1                                                  2              \n",
      "\n",
      "   Як ви відноситесь до участі в групових заходах чи проектах?   \\\n",
      "0                                                  4              \n",
      "1                                                  3              \n",
      "\n",
      "   Чи ви цікавитеся створенням та веденням свого бізнесу?   \\\n",
      "0                                                  5         \n",
      "1                                                  1         \n",
      "\n",
      "   Чи вам подобається приймати важливі рішення та вирішувати проблеми?   \\\n",
      "0                                                  3                      \n",
      "1                                                  3                      \n",
      "\n",
      "   Чи берете ви участь у лідерських або підприємницьких ініціативах?   \\\n",
      "0                                                  4                    \n",
      "1                                                  2                    \n",
      "\n",
      "   Чи вам подобається порядок і систематичність в роботі?   \\\n",
      "0                                                  3         \n",
      "1                                                  3         \n",
      "\n",
      "   Чи легше вам працювати за чіткими правилами і встановленими стандартами?   \\\n",
      "0                                                  4                           \n",
      "1                                                  2                           \n",
      "\n",
      "   Чи цікавитеся ви організаційними аспектами роботи?   \n",
      "0                                                  3    \n",
      "1                                                  3    \n"
     ]
    }
   ],
   "source": [
    "numeric_columns = df.columns[1:]\n",
    "\n",
    "df[numeric_columns] = df[numeric_columns].apply(pd.to_numeric, errors='coerce')\n",
    "\n",
    "print(df)"
   ],
   "metadata": {
    "collapsed": false,
    "ExecuteTime": {
     "end_time": "2023-12-13T13:16:06.862662300Z",
     "start_time": "2023-12-13T13:16:06.830955800Z"
    }
   },
   "id": "ad90ee7e6ab7c42a"
  },
  {
   "cell_type": "code",
   "execution_count": 10,
   "outputs": [
    {
     "name": "stdout",
     "output_type": "stream",
     "text": [
      "<class 'numpy.int64'>\n"
     ]
    }
   ],
   "source": [
    "element_type = type(df[\"Чи вам подобається займатися фізичною активністю та спортом? \"][0])\n",
    "\n",
    "print(element_type)"
   ],
   "metadata": {
    "collapsed": false,
    "ExecuteTime": {
     "end_time": "2023-12-13T13:16:06.862662300Z",
     "start_time": "2023-12-13T13:16:06.847577700Z"
    }
   },
   "id": "b8365cfc83cad4d5"
  },
  {
   "cell_type": "code",
   "execution_count": 11,
   "outputs": [
    {
     "name": "stdout",
     "output_type": "stream",
     "text": [
      "         Позначка часу  Realistic  Investigative  Artistic  Social  \\\n",
      "0  12.12.2023 23:59:04        4.5            2.5       4.0     4.0   \n",
      "1  12.12.2023 23:59:37        2.0            2.0       2.0     2.5   \n",
      "\n",
      "   Enterprising  Conventional  \n",
      "0           4.0           3.5  \n",
      "1           2.0           2.5  \n"
     ]
    }
   ],
   "source": [
    "numeric_columns = df.columns[1:]\n",
    "\n",
    "\n",
    "riasec_columns = ['Realistic', 'Investigative', 'Artistic', 'Social', 'Enterprising', 'Conventional']\n",
    "\n",
    "\n",
    "\n",
    "averages_df = pd.DataFrame()\n",
    "\n",
    "for i in range(0, 18, 3):\n",
    "    start_idx = i\n",
    "    end_idx = i + 3\n",
    "    selected_cols = df.columns[start_idx+1:end_idx]\n",
    "    averages_df[riasec_columns[int(end_idx/3)-1]] = df[selected_cols].mean(axis=1)\n",
    "\n",
    "\n",
    "final_df = pd.concat([df['Позначка часу'], averages_df], axis=1)\n",
    "\n",
    "print(final_df)\n"
   ],
   "metadata": {
    "collapsed": false,
    "ExecuteTime": {
     "end_time": "2023-12-13T13:16:06.940870900Z",
     "start_time": "2023-12-13T13:16:06.862662300Z"
    }
   },
   "id": "9a5b8b24be355ca2"
  },
  {
   "cell_type": "code",
   "execution_count": 11,
   "outputs": [],
   "source": [],
   "metadata": {
    "collapsed": false,
    "ExecuteTime": {
     "end_time": "2023-12-13T13:16:06.956884600Z",
     "start_time": "2023-12-13T13:16:06.878294500Z"
    }
   },
   "id": "e541a7a796a7742d"
  }
 ],
 "metadata": {
  "kernelspec": {
   "display_name": "Python 3",
   "language": "python",
   "name": "python3"
  },
  "language_info": {
   "codemirror_mode": {
    "name": "ipython",
    "version": 2
   },
   "file_extension": ".py",
   "mimetype": "text/x-python",
   "name": "python",
   "nbconvert_exporter": "python",
   "pygments_lexer": "ipython2",
   "version": "2.7.6"
  }
 },
 "nbformat": 4,
 "nbformat_minor": 5
}
