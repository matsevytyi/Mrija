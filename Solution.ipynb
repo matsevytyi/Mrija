{
 "cells": [
  {
   "cell_type": "code",
   "execution_count": 5,
   "id": "initial_id",
   "metadata": {
    "collapsed": true,
    "ExecuteTime": {
     "end_time": "2023-12-13T17:35:22.821252300Z",
     "start_time": "2023-12-13T17:35:21.980204100Z"
    }
   },
   "outputs": [],
   "source": [
    "import gspread\n",
    "from oauth2client.service_account import ServiceAccountCredentials\n",
    "import pandas as pd"
   ]
  },
  {
   "cell_type": "code",
   "execution_count": 13,
   "outputs": [],
   "source": [
    "credentials_path = '../riasec-model-1-c1119188e695.json' \n",
    "\n",
    "spreadsheet_url = 'https://docs.google.com/spreadsheets/d/1x4e-yyXWHMZW9ZXiOb_oUnZLHukOWg1cc0Qf5jL2aLM/edit?usp=sharing'\n",
    "\n",
    "scope = ['https://spreadsheets.google.com/feeds', 'https://www.googleapis.com/auth/drive']\n",
    "credentials = ServiceAccountCredentials.from_json_keyfile_name(credentials_path, scope)\n",
    "gc = gspread.authorize(credentials)\n",
    "\n",
    "spreadsheet = gc.open_by_url(spreadsheet_url)\n",
    "\n",
    "worksheet = spreadsheet.get_worksheet(0)\n",
    "\n",
    "data = worksheet.get_all_values()\n",
    "\n",
    "df = pd.DataFrame(data[1:], columns=data[0])"
   ],
   "metadata": {
    "collapsed": false,
    "ExecuteTime": {
     "end_time": "2023-12-13T17:29:31.486551600Z",
     "start_time": "2023-12-13T17:29:28.551574800Z"
    }
   },
   "id": "385dbf5c01df6437"
  },
  {
   "cell_type": "code",
   "execution_count": 14,
   "outputs": [
    {
     "name": "stdout",
     "output_type": "stream",
     "text": [
      "         Позначка часу  \\\n",
      "0  13.12.2023 17:14:56   \n",
      "1  13.12.2023 17:21:03   \n",
      "\n",
      "  Коли я отримую подарунки, я більше ціную практичні та корисні речі, ніж щось декоративне  \\\n",
      "0                                                  3                                         \n",
      "1                                                  2                                         \n",
      "\n",
      "  Моя енергія ніколи не вичерпується  \\\n",
      "0                                  2   \n",
      "1                                  3   \n",
      "\n",
      "  Теоретичні ідеї та дилеми – це не те, на що варто витрачати багато часу\\n(на скільки Ви погоджуєтесь з твердженням)  \\\n",
      "0                                                  4                                                                    \n",
      "1                                                  1                                                                    \n",
      "\n",
      "  Чи вам подобається займатися фізичною активністю та спортом?   \\\n",
      "0                                                  3              \n",
      "1                                                  4              \n",
      "\n",
      "  Чи цікавить вас робота з різноманітними інструментами?   \\\n",
      "0                                                  5        \n",
      "1                                                  3        \n",
      "\n",
      "  Чи вам подобається працювати на відкритому повітрі?   \\\n",
      "0                                                  4     \n",
      "1                                                  5     \n",
      "\n",
      "  Чи вам цікаво розв'язувати складні математичні задачі?   \\\n",
      "0                                                  3        \n",
      "1                                                  3        \n",
      "\n",
      "  Чи любите ви читати наукові книги або журнали?   \\\n",
      "0                                               5   \n",
      "1                                               4   \n",
      "\n",
      "  Мені завжди цікаво почути унікальні точки зору на речі  ...  \\\n",
      "0                                                  4      ...   \n",
      "1                                                  2      ...   \n",
      "\n",
      "  Я чудово вмію змусити інших підтримати мої ідеї\\n\\n  \\\n",
      "0                                                  4    \n",
      "1                                                  3    \n",
      "\n",
      "  Я легко можу змінити думки оточуючих щодо якоїсь теми   \\\n",
      "0                                                  3       \n",
      "1                                                  2       \n",
      "\n",
      "  Чи вам подобається приймати важливі рішення та вирішувати проблеми?   \\\n",
      "0                                                  4                     \n",
      "1                                                  3                     \n",
      "\n",
      "  Чи берете ви участь у лідерських або підприємницьких ініціативах?   \\\n",
      "0                                                  3                   \n",
      "1                                                  2                   \n",
      "\n",
      "  Чи вам подобається порядок і систематичність в роботі?   \\\n",
      "0                                                  3        \n",
      "1                                                  2        \n",
      "\n",
      "  Я завжди докладаю максимальних зусиль, щоб уникнути помилок\\n\\n  \\\n",
      "0                                                  4                \n",
      "1                                                  3                \n",
      "\n",
      "  Чи легше вам працювати за чіткими правилами і встановленими стандартами?   \\\n",
      "0                                                  4                          \n",
      "1                                                  2                          \n",
      "\n",
      "  Чи цікавитеся ви організаційними аспектами роботи?   \\\n",
      "0                                                  3    \n",
      "1                                                  4    \n",
      "\n",
      "  Я віддаю перевагу дотриманню правил, ніж імпровізації  \\\n",
      "0                                                  5      \n",
      "1                                                  3      \n",
      "\n",
      "  Я легко концентруюсь на задачах які виконую та мене важко відволікти після погруження в роботу  \n",
      "0                                                  3                                              \n",
      "1                                                  4                                              \n",
      "\n",
      "[2 rows x 37 columns]\n"
     ]
    }
   ],
   "source": [
    "print(df.head(2))"
   ],
   "metadata": {
    "collapsed": false,
    "ExecuteTime": {
     "end_time": "2023-12-13T17:29:33.651384700Z",
     "start_time": "2023-12-13T17:29:33.620124400Z"
    }
   },
   "id": "e75bcedee2743dd6"
  },
  {
   "cell_type": "code",
   "execution_count": 7,
   "outputs": [
    {
     "data": {
      "text/plain": "Index(['Позначка часу',\n       'Чи вам подобається займатися фізичною активністю та спортом? ',\n       'Чи цікавить вас робота з різноманітними інструментами? ',\n       'Чи вам подобається працювати на відкритому повітрі? ',\n       'Чи вам цікаво розв'язувати складні математичні задачі? ',\n       'Чи любите ви читати наукові книги або журнали? ',\n       'Як ви відноситесь до вивчення нових технологій та програм? ',\n       'Чи ви любите творчі заняття, такі як малювання або музика? ',\n       'Як ви відноситесь до участі в театральних виставах або музичних концертах? ',\n       'Чи цікавитеся ви створенням чого-небудь нового, наприклад, дизайном або рукоділлям? ',\n       'Чи легко ви заводите нових друзів та спілкуєтеся з іншими? ',\n       'Чи вам подобається допомагати людям вирішувати їх проблеми? ',\n       'Як ви відноситесь до участі в групових заходах чи проектах? ',\n       'Чи ви цікавитеся створенням та веденням свого бізнесу? ',\n       'Чи вам подобається приймати важливі рішення та вирішувати проблеми? ',\n       'Чи берете ви участь у лідерських або підприємницьких ініціативах? ',\n       'Чи вам подобається порядок і систематичність в роботі? ',\n       'Чи легше вам працювати за чіткими правилами і встановленими стандартами? ',\n       'Чи цікавитеся ви організаційними аспектами роботи? '],\n      dtype='object')"
     },
     "execution_count": 7,
     "metadata": {},
     "output_type": "execute_result"
    }
   ],
   "source": [
    "df.columns"
   ],
   "metadata": {
    "collapsed": false,
    "ExecuteTime": {
     "end_time": "2023-12-13T13:16:06.847577700Z",
     "start_time": "2023-12-13T13:16:06.799709700Z"
    }
   },
   "id": "a522e8b86c4cf30f"
  },
  {
   "cell_type": "code",
   "execution_count": 15,
   "outputs": [
    {
     "name": "stdout",
     "output_type": "stream",
     "text": [
      "<class 'str'>\n"
     ]
    }
   ],
   "source": [
    "element_type = type(df[\"Чи вам подобається займатися фізичною активністю та спортом? \"][0])\n",
    "\n",
    "print(element_type)"
   ],
   "metadata": {
    "collapsed": false,
    "ExecuteTime": {
     "end_time": "2023-12-13T17:29:44.783329200Z",
     "start_time": "2023-12-13T17:29:44.767706Z"
    }
   },
   "id": "b1b400dc7c009f2e"
  },
  {
   "cell_type": "code",
   "execution_count": 16,
   "outputs": [
    {
     "name": "stdout",
     "output_type": "stream",
     "text": [
      "         Позначка часу  \\\n",
      "0  13.12.2023 17:14:56   \n",
      "1  13.12.2023 17:21:03   \n",
      "\n",
      "   Коли я отримую подарунки, я більше ціную практичні та корисні речі, ніж щось декоративне  \\\n",
      "0                                                  3                                          \n",
      "1                                                  2                                          \n",
      "\n",
      "   Моя енергія ніколи не вичерпується  \\\n",
      "0                                   2   \n",
      "1                                   3   \n",
      "\n",
      "   Теоретичні ідеї та дилеми – це не те, на що варто витрачати багато часу\\n(на скільки Ви погоджуєтесь з твердженням)  \\\n",
      "0                                                  4                                                                     \n",
      "1                                                  1                                                                     \n",
      "\n",
      "   Чи вам подобається займатися фізичною активністю та спортом?   \\\n",
      "0                                                  3               \n",
      "1                                                  4               \n",
      "\n",
      "   Чи цікавить вас робота з різноманітними інструментами?   \\\n",
      "0                                                  5         \n",
      "1                                                  3         \n",
      "\n",
      "   Чи вам подобається працювати на відкритому повітрі?   \\\n",
      "0                                                  4      \n",
      "1                                                  5      \n",
      "\n",
      "   Чи вам цікаво розв'язувати складні математичні задачі?   \\\n",
      "0                                                  3         \n",
      "1                                                  3         \n",
      "\n",
      "   Чи любите ви читати наукові книги або журнали?   \\\n",
      "0                                                5   \n",
      "1                                                4   \n",
      "\n",
      "   Мені завжди цікаво почути унікальні точки зору на речі  ...  \\\n",
      "0                                                  4       ...   \n",
      "1                                                  2       ...   \n",
      "\n",
      "   Я чудово вмію змусити інших підтримати мої ідеї\\n\\n  \\\n",
      "0                                                  4     \n",
      "1                                                  3     \n",
      "\n",
      "   Я легко можу змінити думки оточуючих щодо якоїсь теми   \\\n",
      "0                                                  3        \n",
      "1                                                  2        \n",
      "\n",
      "   Чи вам подобається приймати важливі рішення та вирішувати проблеми?   \\\n",
      "0                                                  4                      \n",
      "1                                                  3                      \n",
      "\n",
      "   Чи берете ви участь у лідерських або підприємницьких ініціативах?   \\\n",
      "0                                                  3                    \n",
      "1                                                  2                    \n",
      "\n",
      "   Чи вам подобається порядок і систематичність в роботі?   \\\n",
      "0                                                  3         \n",
      "1                                                  2         \n",
      "\n",
      "   Я завжди докладаю максимальних зусиль, щоб уникнути помилок\\n\\n  \\\n",
      "0                                                  4                 \n",
      "1                                                  3                 \n",
      "\n",
      "   Чи легше вам працювати за чіткими правилами і встановленими стандартами?   \\\n",
      "0                                                  4                           \n",
      "1                                                  2                           \n",
      "\n",
      "   Чи цікавитеся ви організаційними аспектами роботи?   \\\n",
      "0                                                  3     \n",
      "1                                                  4     \n",
      "\n",
      "   Я віддаю перевагу дотриманню правил, ніж імпровізації  \\\n",
      "0                                                  5       \n",
      "1                                                  3       \n",
      "\n",
      "   Я легко концентруюсь на задачах які виконую та мене важко відволікти після погруження в роботу  \n",
      "0                                                  3                                               \n",
      "1                                                  4                                               \n",
      "\n",
      "[2 rows x 37 columns]\n"
     ]
    }
   ],
   "source": [
    "numeric_columns = df.columns[1:]\n",
    "\n",
    "df[numeric_columns] = df[numeric_columns].apply(pd.to_numeric, errors='coerce')\n",
    "\n",
    "print(df)"
   ],
   "metadata": {
    "collapsed": false,
    "ExecuteTime": {
     "end_time": "2023-12-13T17:29:47.171361300Z",
     "start_time": "2023-12-13T17:29:47.124492700Z"
    }
   },
   "id": "ad90ee7e6ab7c42a"
  },
  {
   "cell_type": "code",
   "execution_count": 17,
   "outputs": [
    {
     "name": "stdout",
     "output_type": "stream",
     "text": [
      "<class 'numpy.int64'>\n"
     ]
    }
   ],
   "source": [
    "element_type = type(df[\"Чи вам подобається займатися фізичною активністю та спортом? \"][0])\n",
    "\n",
    "print(element_type)"
   ],
   "metadata": {
    "collapsed": false,
    "ExecuteTime": {
     "end_time": "2023-12-13T17:29:52.134604400Z",
     "start_time": "2023-12-13T17:29:52.118977100Z"
    }
   },
   "id": "b8365cfc83cad4d5"
  },
  {
   "cell_type": "code",
   "execution_count": 18,
   "outputs": [
    {
     "name": "stdout",
     "output_type": "stream",
     "text": [
      "         Позначка часу  Realistic  Investigative  Artistic  Social  \\\n",
      "0  13.12.2023 17:14:56        3.4            3.6       3.2     2.6   \n",
      "1  13.12.2023 17:21:03        2.6            2.8       2.8     2.6   \n",
      "\n",
      "   Enterprising  Conventional  \n",
      "0           3.2           3.8  \n",
      "1           2.6           2.8  \n"
     ]
    }
   ],
   "source": [
    "numeric_columns = df.columns[1:]\n",
    "\n",
    "\n",
    "riasec_columns = ['Realistic', 'Investigative', 'Artistic', 'Social', 'Enterprising', 'Conventional']\n",
    "\n",
    "\n",
    "number_of_questions = 36\n",
    "questions_per_section = 6\n",
    "averages_df = pd.DataFrame()\n",
    "\n",
    "for i in range(0, number_of_questions, questions_per_section):\n",
    "    start_idx = i\n",
    "    end_idx = i + questions_per_section\n",
    "    selected_cols = df.columns[start_idx+1:end_idx]\n",
    "    averages_df[riasec_columns[int(end_idx/questions_per_section)-1]] = df[selected_cols].mean(axis=1)\n",
    "\n",
    "\n",
    "final_df = pd.concat([df['Позначка часу'], averages_df], axis=1)\n",
    "\n",
    "print(final_df)\n"
   ],
   "metadata": {
    "collapsed": false,
    "ExecuteTime": {
     "end_time": "2023-12-13T17:31:12.025003800Z",
     "start_time": "2023-12-13T17:31:12.009369700Z"
    }
   },
   "id": "9a5b8b24be355ca2"
  },
  {
   "cell_type": "code",
   "execution_count": 11,
   "outputs": [],
   "source": [],
   "metadata": {
    "collapsed": false,
    "ExecuteTime": {
     "end_time": "2023-12-13T13:16:06.956884600Z",
     "start_time": "2023-12-13T13:16:06.878294500Z"
    }
   },
   "id": "e541a7a796a7742d"
  }
 ],
 "metadata": {
  "kernelspec": {
   "display_name": "Python 3",
   "language": "python",
   "name": "python3"
  },
  "language_info": {
   "codemirror_mode": {
    "name": "ipython",
    "version": 2
   },
   "file_extension": ".py",
   "mimetype": "text/x-python",
   "name": "python",
   "nbconvert_exporter": "python",
   "pygments_lexer": "ipython2",
   "version": "2.7.6"
  }
 },
 "nbformat": 4,
 "nbformat_minor": 5
}
